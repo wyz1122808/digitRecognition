{
  "nbformat": 4,
  "nbformat_minor": 0,
  "metadata": {
    "colab": {
      "provenance": [],
      "authorship_tag": "ABX9TyPrKFrj+k9hG7B+CSglcVvg",
      "include_colab_link": true
    },
    "kernelspec": {
      "name": "python3",
      "display_name": "Python 3"
    },
    "language_info": {
      "name": "python"
    },
    "accelerator": "GPU",
    "gpuClass": "premium"
  },
  "cells": [
    {
      "cell_type": "markdown",
      "metadata": {
        "id": "view-in-github",
        "colab_type": "text"
      },
      "source": [
        "<a href=\"https://colab.research.google.com/github/wyz1122808/digitRecognition/blob/main/Digit_Recognization_using_CNN.ipynb\" target=\"_parent\"><img src=\"https://colab.research.google.com/assets/colab-badge.svg\" alt=\"Open In Colab\"/></a>"
      ]
    },
    {
      "cell_type": "markdown",
      "source": [
        "# Importing required packages"
      ],
      "metadata": {
        "id": "S47VJqtQAOmi"
      }
    },
    {
      "cell_type": "code",
      "execution_count": 1,
      "metadata": {
        "id": "eSsmvFsQAIDI"
      },
      "outputs": [],
      "source": [
        "import numpy as np\n",
        "import pandas as pd\n",
        "import matplotlib.pyplot as plt\n",
        "%matplotlib inline\n",
        "\n",
        "from sklearn.utils import shuffle\n",
        "from keras.models import Sequential\n",
        "from tensorflow import keras\n",
        "from keras.layers import Dense, Dropout, Flatten, BatchNormalization\n",
        "from keras.callbacks import EarlyStopping"
      ]
    },
    {
      "cell_type": "markdown",
      "source": [
        "# Load data"
      ],
      "metadata": {
        "id": "nSWQQs2NAVRP"
      }
    },
    {
      "cell_type": "code",
      "source": [
        "!gdown https://drive.google.com/uc?id=1SXCGAzKAKG8RMTe_TSmESdyEFxiUx6d- -O ./test.csv\n",
        "!gdown https://drive.google.com/uc?id=1zDelOAtkwghIf-5eNX5XerEGp2viEY60 -O ./train.csv"
      ],
      "metadata": {
        "colab": {
          "base_uri": "https://localhost:8080/"
        },
        "id": "mDiMh3nBAVpj",
        "outputId": "5acb25e1-c76a-47cc-bbe8-95398fc7b2ca"
      },
      "execution_count": 2,
      "outputs": [
        {
          "output_type": "stream",
          "name": "stdout",
          "text": [
            "Downloading...\n",
            "From: https://drive.google.com/uc?id=1SXCGAzKAKG8RMTe_TSmESdyEFxiUx6d-\n",
            "To: /content/test.csv\n",
            "100% 51.1M/51.1M [00:00<00:00, 56.2MB/s]\n",
            "Downloading...\n",
            "From: https://drive.google.com/uc?id=1zDelOAtkwghIf-5eNX5XerEGp2viEY60\n",
            "To: /content/train.csv\n",
            "100% 76.8M/76.8M [00:00<00:00, 81.8MB/s]\n"
          ]
        }
      ]
    },
    {
      "cell_type": "markdown",
      "source": [
        "# Get shaoe of the dataset"
      ],
      "metadata": {
        "id": "jGN2bRznAWPk"
      }
    },
    {
      "cell_type": "code",
      "source": [
        "test = pd.read_csv('test.csv')\n",
        "train = pd.read_csv('train.csv')\n",
        "\n",
        "\n",
        "test_shape = np.shape(test)\n",
        "train_shape = np.shape(train)\n",
        "\n",
        "print(f'Shape of Test Data : {test_shape}')\n",
        "print(f'Shape of Train Data : {train_shape}')\n",
        "\n",
        "img_size = (28,28,1)"
      ],
      "metadata": {
        "colab": {
          "base_uri": "https://localhost:8080/"
        },
        "id": "Jlq1DcKDAWzH",
        "outputId": "491483ec-32d2-484c-aa55-6dbab938eed6"
      },
      "execution_count": 3,
      "outputs": [
        {
          "output_type": "stream",
          "name": "stdout",
          "text": [
            "Shape of Test Data : (28000, 784)\n",
            "Shape of Train Data : (42000, 785)\n"
          ]
        }
      ]
    },
    {
      "cell_type": "markdown",
      "source": [
        "# Get unique classes & the count"
      ],
      "metadata": {
        "id": "bIIjDqYjF6Xl"
      }
    },
    {
      "cell_type": "code",
      "source": [
        "label_count = dict(train.label.value_counts())\n",
        "print(f' Labels and their count :\\n {label_count}')\n",
        "\n",
        "x = list(label_count.keys())\n",
        "y = list(label_count.values())\n",
        "\n",
        "fig = plt.figure(figsize = (10,5))\n",
        "plt.bar(x, y, width = 0.5)\n",
        "plt.xticks(x)\n",
        "plt.title('Number of samples in each label')\n",
        "plt.xlabel('Labels')\n",
        "plt.ylabel('Count')\n",
        "plt.show()"
      ],
      "metadata": {
        "colab": {
          "base_uri": "https://localhost:8080/",
          "height": 385
        },
        "id": "pVeZRZsUF6tR",
        "outputId": "9e2e5c96-e2a8-4fb4-f144-d290fbcfd128"
      },
      "execution_count": 4,
      "outputs": [
        {
          "output_type": "stream",
          "name": "stdout",
          "text": [
            " Labels and their count :\n",
            " {1: 4684, 7: 4401, 3: 4351, 9: 4188, 2: 4177, 6: 4137, 0: 4132, 4: 4072, 8: 4063, 5: 3795}\n"
          ]
        },
        {
          "output_type": "display_data",
          "data": {
            "text/plain": [
              "<Figure size 720x360 with 1 Axes>"
            ],
            "image/png": "[encoded data removed]"
          },
          "metadata": {
            "needs_background": "light"
          }
        }
      ]
    },
    {
      "cell_type": "markdown",
      "source": [
        "# Preprocessing\n"
      ],
      "metadata": {
        "id": "YWlIn_4aF67J"
      }
    },
    {
      "cell_type": "code",
      "source": [
        "train_images = []\n",
        "\n",
        "for i in range(train_shape[0]):\n",
        "    data = train.iloc[i,1:]\n",
        "    data = np.array(data)\n",
        "    data = np.reshape(data,img_size)\n",
        "    train_images.append(data)\n",
        "    \n",
        "train_images = np.array(train_images)\n",
        "\n",
        "\n"
      ],
      "metadata": {
        "id": "yfYSA07DF7O0"
      },
      "execution_count": 5,
      "outputs": []
    },
    {
      "cell_type": "code",
      "source": [
        "test_images = []\n",
        "\n",
        "for i in range(test_shape[0]):\n",
        "    data = test.iloc[i,:]\n",
        "    data = np.array(data)\n",
        "    data = np.reshape(data,img_size)\n",
        "    test_images.append(data)\n",
        "\n",
        "test_images = np.array(test_images)"
      ],
      "metadata": {
        "id": "9zwSLCkUSFZV"
      },
      "execution_count": 6,
      "outputs": []
    },
    {
      "cell_type": "code",
      "source": [
        "train_labels = list(train.iloc[:,0])\n",
        "train_labels = np.array(train_labels)\n",
        "train_labels = np.reshape(train_labels,(train_shape[0],1))"
      ],
      "metadata": {
        "id": "mhJrSPkpSFsr"
      },
      "execution_count": 7,
      "outputs": []
    },
    {
      "cell_type": "code",
      "source": [
        "train_images, train_labels = shuffle(train_images, train_labels, random_state=10)\n",
        "val_images, val_labels = train_images[:8400], train_labels[:8400]"
      ],
      "metadata": {
        "id": "UC16OdLlSItS"
      },
      "execution_count": 8,
      "outputs": []
    },
    {
      "cell_type": "markdown",
      "source": [
        "# AlexNet Model"
      ],
      "metadata": {
        "id": "WDNAEDtlSMtW"
      }
    },
    {
      "cell_type": "code",
      "source": [
        "Model = keras.models.Sequential([\n",
        "    keras.layers.Conv2D(filters=96, kernel_size=(3,3), activation='relu', input_shape=(28,28,1)),\n",
        "    keras.layers.BatchNormalization(),\n",
        "    keras.layers.MaxPool2D(pool_size=(2,2)),\n",
        "    keras.layers.Conv2D(filters=256, kernel_size=(3,3), activation='relu', padding=\"same\"),\n",
        "    keras.layers.BatchNormalization(),\n",
        "    keras.layers.MaxPool2D(pool_size=(2,2)),\n",
        "    keras.layers.Conv2D(filters=384, kernel_size=(3,3), activation='relu', padding=\"same\"),\n",
        "    keras.layers.BatchNormalization(),\n",
        "    keras.layers.Conv2D(filters=384, kernel_size=(3,3), activation='relu', padding=\"same\"),\n",
        "    keras.layers.BatchNormalization(),\n",
        "    keras.layers.Conv2D(filters=256, kernel_size=(3,3), activation='relu', padding=\"same\"),\n",
        "    keras.layers.BatchNormalization(),\n",
        "    keras.layers.MaxPool2D(pool_size=(2,2)),\n",
        "    keras.layers.Flatten(),\n",
        "    keras.layers.Dense(4096, activation='relu'),\n",
        "    keras.layers.Dropout(0.5),\n",
        "    keras.layers.Dense(1024, activation='relu'),\n",
        "    keras.layers.Dropout(0.5),\n",
        "    keras.layers.Dense(256, activation='relu'),\n",
        "    keras.layers.Dropout(0.5),\n",
        "    keras.layers.Dense(64, activation='relu'),\n",
        "    keras.layers.Dropout(0.5),\n",
        "    keras.layers.Dense(10, activation='softmax')\n",
        "])\n",
        "\n",
        "early_stopping = EarlyStopping(min_delta = 0.001,patience = 20,restore_best_weights = True,verbose = 0)\n",
        "\n",
        "# Compile\n",
        "Model.compile(optimizer = \"adam\" , loss = 'sparse_categorical_crossentropy' , metrics = ['accuracy'])\n",
        "\n",
        "# Train\n",
        "hist = Model.fit(train_images, train_labels, batch_size = 256, epochs = 50,callbacks = [early_stopping],validation_data=(val_images, val_labels))\n",
        "\n",
        "Model.summary()"
      ],
      "metadata": {
        "colab": {
          "base_uri": "https://localhost:8080/"
        },
        "id": "qVGeuYO-SQNF",
        "outputId": "1b9e1674-22f4-4afd-dec9-a67dfebe6965"
      },
      "execution_count": 9,
      "outputs": [
        {
          "output_type": "stream",
          "name": "stdout",
          "text": [
            "Epoch 1/50\n",
            "165/165 [==============================] - 18s 16ms/step - loss: 1.2759 - accuracy: 0.5748 - val_loss: 0.2734 - val_accuracy: 0.9414\n",
            "Epoch 2/50\n",
            "165/165 [==============================] - 2s 12ms/step - loss: 0.2003 - accuracy: 0.9554 - val_loss: 0.1054 - val_accuracy: 0.9782\n",
            "Epoch 3/50\n",
            "165/165 [==============================] - 2s 12ms/step - loss: 0.1629 - accuracy: 0.9649 - val_loss: 0.0759 - val_accuracy: 0.9864\n",
            "Epoch 4/50\n",
            "165/165 [==============================] - 2s 12ms/step - loss: 0.1074 - accuracy: 0.9772 - val_loss: 0.1252 - val_accuracy: 0.9770\n",
            "Epoch 5/50\n",
            "165/165 [==============================] - 2s 11ms/step - loss: 0.0816 - accuracy: 0.9830 - val_loss: 0.1332 - val_accuracy: 0.9785\n",
            "Epoch 6/50\n",
            "165/165 [==============================] - 2s 12ms/step - loss: 0.0773 - accuracy: 0.9839 - val_loss: 0.0464 - val_accuracy: 0.9892\n",
            "Epoch 7/50\n",
            "165/165 [==============================] - 2s 11ms/step - loss: 0.0599 - accuracy: 0.9879 - val_loss: 0.0793 - val_accuracy: 0.9835\n",
            "Epoch 8/50\n",
            "165/165 [==============================] - 2s 12ms/step - loss: 0.0701 - accuracy: 0.9861 - val_loss: 0.0395 - val_accuracy: 0.9915\n",
            "Epoch 9/50\n",
            "165/165 [==============================] - 2s 12ms/step - loss: 0.0612 - accuracy: 0.9876 - val_loss: 0.0308 - val_accuracy: 0.9945\n",
            "Epoch 10/50\n",
            "165/165 [==============================] - 2s 12ms/step - loss: 0.0612 - accuracy: 0.9881 - val_loss: 0.0181 - val_accuracy: 0.9963\n",
            "Epoch 11/50\n",
            "165/165 [==============================] - 2s 11ms/step - loss: 0.0480 - accuracy: 0.9908 - val_loss: 0.0308 - val_accuracy: 0.9919\n",
            "Epoch 12/50\n",
            "165/165 [==============================] - 2s 11ms/step - loss: 0.0446 - accuracy: 0.9910 - val_loss: 0.0246 - val_accuracy: 0.9933\n",
            "Epoch 13/50\n",
            "165/165 [==============================] - 2s 11ms/step - loss: 0.0465 - accuracy: 0.9908 - val_loss: 0.0461 - val_accuracy: 0.9925\n",
            "Epoch 14/50\n",
            "165/165 [==============================] - 2s 12ms/step - loss: 0.0335 - accuracy: 0.9929 - val_loss: 0.0130 - val_accuracy: 0.9981\n",
            "Epoch 15/50\n",
            "165/165 [==============================] - 2s 12ms/step - loss: 0.0341 - accuracy: 0.9927 - val_loss: 0.0115 - val_accuracy: 0.9974\n",
            "Epoch 16/50\n",
            "165/165 [==============================] - 2s 12ms/step - loss: 0.0368 - accuracy: 0.9926 - val_loss: 0.0179 - val_accuracy: 0.9955\n",
            "Epoch 17/50\n",
            "165/165 [==============================] - 2s 11ms/step - loss: 0.0395 - accuracy: 0.9923 - val_loss: 0.0220 - val_accuracy: 0.9960\n",
            "Epoch 18/50\n",
            "165/165 [==============================] - 2s 11ms/step - loss: 0.0807 - accuracy: 0.9835 - val_loss: 0.0286 - val_accuracy: 0.9940\n",
            "Epoch 19/50\n",
            "165/165 [==============================] - 2s 12ms/step - loss: 0.0538 - accuracy: 0.9889 - val_loss: 0.0123 - val_accuracy: 0.9968\n",
            "Epoch 20/50\n",
            "165/165 [==============================] - 2s 11ms/step - loss: 0.0356 - accuracy: 0.9930 - val_loss: 0.0256 - val_accuracy: 0.9936\n",
            "Epoch 21/50\n",
            "165/165 [==============================] - 2s 12ms/step - loss: 0.0422 - accuracy: 0.9929 - val_loss: 0.0237 - val_accuracy: 0.9960\n",
            "Epoch 22/50\n",
            "165/165 [==============================] - 2s 12ms/step - loss: 0.0523 - accuracy: 0.9904 - val_loss: 0.0227 - val_accuracy: 0.9961\n",
            "Epoch 23/50\n",
            "165/165 [==============================] - 2s 11ms/step - loss: 0.0354 - accuracy: 0.9924 - val_loss: 0.0641 - val_accuracy: 0.9870\n",
            "Epoch 24/50\n",
            "165/165 [==============================] - 2s 11ms/step - loss: 0.0252 - accuracy: 0.9949 - val_loss: 0.0194 - val_accuracy: 0.9955\n",
            "Epoch 25/50\n",
            "165/165 [==============================] - 2s 12ms/step - loss: 0.0171 - accuracy: 0.9958 - val_loss: 0.0086 - val_accuracy: 0.9985\n",
            "Epoch 26/50\n",
            "165/165 [==============================] - 2s 11ms/step - loss: 0.0223 - accuracy: 0.9957 - val_loss: 0.0291 - val_accuracy: 0.9944\n",
            "Epoch 27/50\n",
            "165/165 [==============================] - 2s 11ms/step - loss: 0.0297 - accuracy: 0.9937 - val_loss: 0.0084 - val_accuracy: 0.9981\n",
            "Epoch 28/50\n",
            "165/165 [==============================] - 2s 12ms/step - loss: 0.0277 - accuracy: 0.9954 - val_loss: 0.0169 - val_accuracy: 0.9979\n",
            "Epoch 29/50\n",
            "165/165 [==============================] - 2s 11ms/step - loss: 0.0235 - accuracy: 0.9950 - val_loss: 0.0086 - val_accuracy: 0.9983\n",
            "Epoch 30/50\n",
            "165/165 [==============================] - 2s 11ms/step - loss: 0.0191 - accuracy: 0.9965 - val_loss: 0.0961 - val_accuracy: 0.9904\n",
            "Epoch 31/50\n",
            "165/165 [==============================] - 2s 12ms/step - loss: 0.0337 - accuracy: 0.9942 - val_loss: 0.0058 - val_accuracy: 0.9992\n",
            "Epoch 32/50\n",
            "165/165 [==============================] - 2s 11ms/step - loss: 0.0159 - accuracy: 0.9963 - val_loss: 0.0090 - val_accuracy: 0.9987\n",
            "Epoch 33/50\n",
            "165/165 [==============================] - 2s 11ms/step - loss: 0.0195 - accuracy: 0.9960 - val_loss: 0.0055 - val_accuracy: 0.9992\n",
            "Epoch 34/50\n",
            "165/165 [==============================] - 2s 12ms/step - loss: 0.0294 - accuracy: 0.9948 - val_loss: 0.0127 - val_accuracy: 0.9957\n",
            "Epoch 35/50\n",
            "165/165 [==============================] - 2s 11ms/step - loss: 0.0262 - accuracy: 0.9954 - val_loss: 0.0862 - val_accuracy: 0.9904\n",
            "Epoch 36/50\n",
            "165/165 [==============================] - 2s 11ms/step - loss: 0.1080 - accuracy: 0.9806 - val_loss: 0.0407 - val_accuracy: 0.9920\n",
            "Epoch 37/50\n",
            "165/165 [==============================] - 2s 11ms/step - loss: 0.0491 - accuracy: 0.9915 - val_loss: 0.0122 - val_accuracy: 0.9965\n",
            "Epoch 38/50\n",
            "165/165 [==============================] - 2s 12ms/step - loss: 0.0325 - accuracy: 0.9935 - val_loss: 0.0097 - val_accuracy: 0.9976\n",
            "Epoch 39/50\n",
            "165/165 [==============================] - 2s 11ms/step - loss: 0.0165 - accuracy: 0.9959 - val_loss: 0.0165 - val_accuracy: 0.9976\n",
            "Epoch 40/50\n",
            "165/165 [==============================] - 2s 12ms/step - loss: 0.0239 - accuracy: 0.9952 - val_loss: 0.0092 - val_accuracy: 0.9988\n",
            "Epoch 41/50\n",
            "165/165 [==============================] - 2s 11ms/step - loss: 0.0178 - accuracy: 0.9963 - val_loss: 0.0061 - val_accuracy: 0.9990\n",
            "Epoch 42/50\n",
            "165/165 [==============================] - 2s 11ms/step - loss: 0.0212 - accuracy: 0.9960 - val_loss: 0.0110 - val_accuracy: 0.9986\n",
            "Epoch 43/50\n",
            "165/165 [==============================] - 2s 12ms/step - loss: 0.0230 - accuracy: 0.9958 - val_loss: 0.0019 - val_accuracy: 0.9994\n",
            "Epoch 44/50\n",
            "165/165 [==============================] - 2s 11ms/step - loss: 0.0254 - accuracy: 0.9955 - val_loss: 0.0073 - val_accuracy: 0.9977\n",
            "Epoch 45/50\n",
            "165/165 [==============================] - 2s 11ms/step - loss: 0.0223 - accuracy: 0.9953 - val_loss: 0.0060 - val_accuracy: 0.9982\n",
            "Epoch 46/50\n",
            "165/165 [==============================] - 2s 12ms/step - loss: 0.0159 - accuracy: 0.9969 - val_loss: 0.0076 - val_accuracy: 0.9980\n",
            "Epoch 47/50\n",
            "165/165 [==============================] - 2s 11ms/step - loss: 0.0247 - accuracy: 0.9950 - val_loss: 0.0016 - val_accuracy: 0.9996\n",
            "Epoch 48/50\n",
            "165/165 [==============================] - 2s 11ms/step - loss: 0.0141 - accuracy: 0.9976 - val_loss: 0.0035 - val_accuracy: 0.9996\n",
            "Epoch 49/50\n",
            "165/165 [==============================] - 2s 11ms/step - loss: 0.0175 - accuracy: 0.9976 - val_loss: 0.0085 - val_accuracy: 0.9998\n",
            "Epoch 50/50\n",
            "165/165 [==============================] - 2s 12ms/step - loss: 0.0102 - accuracy: 0.9980 - val_loss: 5.7586e-04 - val_accuracy: 0.9999\n",
            "Model: \"sequential\"\n",
            "_________________________________________________________________\n",
            " Layer (type)                Output Shape              Param #   \n",
            "=================================================================\n",
            " conv2d (Conv2D)             (None, 26, 26, 96)        960       \n",
            "                                                                 \n",
            " batch_normalization (BatchN  (None, 26, 26, 96)       384       \n",
            " ormalization)                                                   \n",
            "                                                                 \n",
            " max_pooling2d (MaxPooling2D  (None, 13, 13, 96)       0         \n",
            " )                                                               \n",
            "                                                                 \n",
            " conv2d_1 (Conv2D)           (None, 13, 13, 256)       221440    \n",
            "                                                                 \n",
            " batch_normalization_1 (Batc  (None, 13, 13, 256)      1024      \n",
            " hNormalization)                                                 \n",
            "                                                                 \n",
            " max_pooling2d_1 (MaxPooling  (None, 6, 6, 256)        0         \n",
            " 2D)                                                             \n",
            "                                                                 \n",
            " conv2d_2 (Conv2D)           (None, 6, 6, 384)         885120    \n",
            "                                                                 \n",
            " batch_normalization_2 (Batc  (None, 6, 6, 384)        1536      \n",
            " hNormalization)                                                 \n",
            "                                                                 \n",
            " conv2d_3 (Conv2D)           (None, 6, 6, 384)         1327488   \n",
            "                                                                 \n",
            " batch_normalization_3 (Batc  (None, 6, 6, 384)        1536      \n",
            " hNormalization)                                                 \n",
            "                                                                 \n",
            " conv2d_4 (Conv2D)           (None, 6, 6, 256)         884992    \n",
            "                                                                 \n",
            " batch_normalization_4 (Batc  (None, 6, 6, 256)        1024      \n",
            " hNormalization)                                                 \n",
            "                                                                 \n",
            " max_pooling2d_2 (MaxPooling  (None, 3, 3, 256)        0         \n",
            " 2D)                                                             \n",
            "                                                                 \n",
            " flatten (Flatten)           (None, 2304)              0         \n",
            "                                                                 \n",
            " dense (Dense)               (None, 4096)              9441280   \n",
            "                                                                 \n",
            " dropout (Dropout)           (None, 4096)              0         \n",
            "                                                                 \n",
            " dense_1 (Dense)             (None, 1024)              4195328   \n",
            "                                                                 \n",
            " dropout_1 (Dropout)         (None, 1024)              0         \n",
            "                                                                 \n",
            " dense_2 (Dense)             (None, 256)               262400    \n",
            "                                                                 \n",
            " dropout_2 (Dropout)         (None, 256)               0         \n",
            "                                                                 \n",
            " dense_3 (Dense)             (None, 64)                16448     \n",
            "                                                                 \n",
            " dropout_3 (Dropout)         (None, 64)                0         \n",
            "                                                                 \n",
            " dense_4 (Dense)             (None, 10)                650       \n",
            "                                                                 \n",
            "=================================================================\n",
            "Total params: 17,241,610\n",
            "Trainable params: 17,238,858\n",
            "Non-trainable params: 2,752\n",
            "_________________________________________________________________\n"
          ]
        }
      ]
    },
    {
      "cell_type": "code",
      "source": [
        "predictions = Model.predict(test_images)\n",
        "predictions = np.argmax(predictions,axis=1)"
      ],
      "metadata": {
        "id": "ZGw3NJlSSYPG",
        "colab": {
          "base_uri": "https://localhost:8080/"
        },
        "outputId": "94e595f9-fd43-4761-953b-ee53f86f50cf"
      },
      "execution_count": 10,
      "outputs": [
        {
          "output_type": "stream",
          "name": "stdout",
          "text": [
            "875/875 [==============================] - 3s 3ms/step\n"
          ]
        }
      ]
    },
    {
      "cell_type": "markdown",
      "source": [
        "# Predicted image\n"
      ],
      "metadata": {
        "id": "7bp0EgDLSUu4"
      }
    },
    {
      "cell_type": "code",
      "source": [
        "n = np.random.randint(0,test_shape[0]) # Generating Random Number\n",
        "sample = test.iloc[n,:]\n",
        "sample = np.array(sample)\n",
        "sample = np.reshape(sample,img_size)\n",
        "\n",
        "plt.imshow(sample)\n",
        "plt.title('Digit : ' + str(predictions[n]))"
      ],
      "metadata": {
        "id": "nIUBhproSgz8",
        "colab": {
          "base_uri": "https://localhost:8080/",
          "height": 298
        },
        "outputId": "f5b9f84d-5b2b-4113-a57c-75cdd39ccfe6"
      },
      "execution_count": 11,
      "outputs": [
        {
          "output_type": "execute_result",
          "data": {
            "text/plain": [
              "Text(0.5, 1.0, 'Digit : 3')"
            ]
          },
          "metadata": {},
          "execution_count": 11
        },
        {
          "output_type": "display_data",
          "data": {
            "text/plain": [
              "<Figure size 432x288 with 1 Axes>"
            ],
            "image/png": "[encoded data removed]"
          },
          "metadata": {
            "needs_background": "light"
          }
        }
      ]
    },
    {
      "cell_type": "markdown",
      "source": [
        "# Result"
      ],
      "metadata": {
        "id": "GBqpM3eXSjv5"
      }
    },
    {
      "cell_type": "code",
      "source": [
        "results = []\n",
        "\n",
        "for i in range(len(predictions)):\n",
        "    results.append([i+1,predictions[i]])\n",
        "    \n",
        "results = pd.DataFrame(results, columns = ['ImageId','Label'], index = None)\n",
        "results = results.set_index('ImageId')\n",
        "results"
      ],
      "metadata": {
        "id": "f8rfCG6lSl8b",
        "colab": {
          "base_uri": "https://localhost:8080/",
          "height": 455
        },
        "outputId": "f524e4ba-85d0-433f-dace-554a66e24345"
      },
      "execution_count": 12,
      "outputs": [
        {
          "output_type": "execute_result",
          "data": {
            "text/plain": [
              "         Label\n",
              "ImageId       \n",
              "1            2\n",
              "2            0\n",
              "3            9\n",
              "4            0\n",
              "5            3\n",
              "...        ...\n",
              "27996        9\n",
              "27997        7\n",
              "27998        3\n",
              "27999        9\n",
              "28000        2\n",
              "\n",
              "[28000 rows x 1 columns]"
            ],
            "text/html": [
              "\n",
              "  <div id=\"df-56b17709-35ee-461f-84b4-1ade422978df\">\n",
              "    <div class=\"colab-df-container\">\n",
              "      <div>\n",
              "<style scoped>\n",
              "    .dataframe tbody tr th:only-of-type {\n",
              "        vertical-align: middle;\n",
              "    }\n",
              "\n",
              "    .dataframe tbody tr th {\n",
              "        vertical-align: top;\n",
              "    }\n",
              "\n",
              "    .dataframe thead th {\n",
              "        text-align: right;\n",
              "    }\n",
              "</style>\n",
              "<table border=\"1\" class=\"dataframe\">\n",
              "  <thead>\n",
              "    <tr style=\"text-align: right;\">\n",
              "      <th></th>\n",
              "      <th>Label</th>\n",
              "    </tr>\n",
              "    <tr>\n",
              "      <th>ImageId</th>\n",
              "      <th></th>\n",
              "    </tr>\n",
              "  </thead>\n",
              "  <tbody>\n",
              "    <tr>\n",
              "      <th>1</th>\n",
              "      <td>2</td>\n",
              "    </tr>\n",
              "    <tr>\n",
              "      <th>2</th>\n",
              "      <td>0</td>\n",
              "    </tr>\n",
              "    <tr>\n",
              "      <th>3</th>\n",
              "      <td>9</td>\n",
              "    </tr>\n",
              "    <tr>\n",
              "      <th>4</th>\n",
              "      <td>0</td>\n",
              "    </tr>\n",
              "    <tr>\n",
              "      <th>5</th>\n",
              "      <td>3</td>\n",
              "    </tr>\n",
              "    <tr>\n",
              "      <th>...</th>\n",
              "      <td>...</td>\n",
              "    </tr>\n",
              "    <tr>\n",
              "      <th>27996</th>\n",
              "      <td>9</td>\n",
              "    </tr>\n",
              "    <tr>\n",
              "      <th>27997</th>\n",
              "      <td>7</td>\n",
              "    </tr>\n",
              "    <tr>\n",
              "      <th>27998</th>\n",
              "      <td>3</td>\n",
              "    </tr>\n",
              "    <tr>\n",
              "      <th>27999</th>\n",
              "      <td>9</td>\n",
              "    </tr>\n",
              "    <tr>\n",
              "      <th>28000</th>\n",
              "      <td>2</td>\n",
              "    </tr>\n",
              "  </tbody>\n",
              "</table>\n",
              "<p>28000 rows × 1 columns</p>\n",
              "</div>\n",
              "      <button class=\"colab-df-convert\" onclick=\"convertToInteractive('df-56b17709-35ee-461f-84b4-1ade422978df')\"\n",
              "              title=\"Convert this dataframe to an interactive table.\"\n",
              "              style=\"display:none;\">\n",
              "        \n",
              "  <svg xmlns=\"http://www.w3.org/2000/svg\" height=\"24px\"viewBox=\"0 0 24 24\"\n",
              "       width=\"24px\">\n",
              "    <path d=\"M0 0h24v24H0V0z\" fill=\"none\"/>\n",
              "    <path d=\"M18.56 5.44l.94 2.06.94-2.06 2.06-.94-2.06-.94-.94-2.06-.94 2.06-2.06.94zm-11 1L8.5 8.5l.94-2.06 2.06-.94-2.06-.94L8.5 2.5l-.94 2.06-2.06.94zm10 10l.94 2.06.94-2.06 2.06-.94-2.06-.94-.94-2.06-.94 2.06-2.06.94z\"/><path d=\"M17.41 7.96l-1.37-1.37c-.4-.4-.92-.59-1.43-.59-.52 0-1.04.2-1.43.59L10.3 9.45l-7.72 7.72c-.78.78-.78 2.05 0 2.83L4 21.41c.39.39.9.59 1.41.59.51 0 1.02-.2 1.41-.59l7.78-7.78 2.81-2.81c.8-.78.8-2.07 0-2.86zM5.41 20L4 18.59l7.72-7.72 1.47 1.35L5.41 20z\"/>\n",
              "  </svg>\n",
              "      </button>\n",
              "      \n",
              "  <style>\n",
              "    .colab-df-container {\n",
              "      display:flex;\n",
              "      flex-wrap:wrap;\n",
              "      gap: 12px;\n",
              "    }\n",
              "\n",
              "    .colab-df-convert {\n",
              "      background-color: #E8F0FE;\n",
              "      border: none;\n",
              "      border-radius: 50%;\n",
              "      cursor: pointer;\n",
              "      display: none;\n",
              "      fill: #1967D2;\n",
              "      height: 32px;\n",
              "      padding: 0 0 0 0;\n",
              "      width: 32px;\n",
              "    }\n",
              "\n",
              "    .colab-df-convert:hover {\n",
              "      background-color: #E2EBFA;\n",
              "      box-shadow: 0px 1px 2px rgba(60, 64, 67, 0.3), 0px 1px 3px 1px rgba(60, 64, 67, 0.15);\n",
              "      fill: #174EA6;\n",
              "    }\n",
              "\n",
              "    [theme=dark] .colab-df-convert {\n",
              "      background-color: #3B4455;\n",
              "      fill: #D2E3FC;\n",
              "    }\n",
              "\n",
              "    [theme=dark] .colab-df-convert:hover {\n",
              "      background-color: #434B5C;\n",
              "      box-shadow: 0px 1px 3px 1px rgba(0, 0, 0, 0.15);\n",
              "      filter: drop-shadow(0px 1px 2px rgba(0, 0, 0, 0.3));\n",
              "      fill: #FFFFFF;\n",
              "    }\n",
              "  </style>\n",
              "\n",
              "      <script>\n",
              "        const buttonEl =\n",
              "          document.querySelector('#df-56b17709-35ee-461f-84b4-1ade422978df button.colab-df-convert');\n",
              "        buttonEl.style.display =\n",
              "          google.colab.kernel.accessAllowed ? 'block' : 'none';\n",
              "\n",
              "        async function convertToInteractive(key) {\n",
              "          const element = document.querySelector('#df-56b17709-35ee-461f-84b4-1ade422978df');\n",
              "          const dataTable =\n",
              "            await google.colab.kernel.invokeFunction('convertToInteractive',\n",
              "                                                     [key], {});\n",
              "          if (!dataTable) return;\n",
              "\n",
              "          const docLinkHtml = 'Like what you see? Visit the ' +\n",
              "            '<a target=\"_blank\" href=https://colab.research.google.com/notebooks/data_table.ipynb>data table notebook</a>'\n",
              "            + ' to learn more about interactive tables.';\n",
              "          element.innerHTML = '';\n",
              "          dataTable['output_type'] = 'display_data';\n",
              "          await google.colab.output.renderOutput(dataTable, element);\n",
              "          const docLink = document.createElement('div');\n",
              "          docLink.innerHTML = docLinkHtml;\n",
              "          element.appendChild(docLink);\n",
              "        }\n",
              "      </script>\n",
              "    </div>\n",
              "  </div>\n",
              "  "
            ]
          },
          "metadata": {},
          "execution_count": 12
        }
      ]
    }
  ]
}